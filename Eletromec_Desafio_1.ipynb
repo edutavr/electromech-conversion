{
  "nbformat": 4,
  "nbformat_minor": 0,
  "metadata": {
    "colab": {
      "provenance": [],
      "authorship_tag": "ABX9TyM9iTKOI9H1u+4gPg8SLToH",
      "include_colab_link": true
    },
    "kernelspec": {
      "name": "python3",
      "display_name": "Python 3"
    },
    "language_info": {
      "name": "python"
    }
  },
  "cells": [
    {
      "cell_type": "markdown",
      "metadata": {
        "id": "view-in-github",
        "colab_type": "text"
      },
      "source": [
        "<a href=\"https://colab.research.google.com/github/edutavr/electromech-conversion/blob/main/Eletromec_Desafio_1.ipynb\" target=\"_parent\"><img src=\"https://colab.research.google.com/assets/colab-badge.svg\" alt=\"Open In Colab\"/></a>"
      ]
    },
    {
      "cell_type": "markdown",
      "source": [
        "## Importando dependências"
      ],
      "metadata": {
        "id": "SLF4ICAkxC5n"
      }
    },
    {
      "cell_type": "code",
      "source": [
        "import pandas as pd\n",
        "import numpy as np\n",
        "import math"
      ],
      "metadata": {
        "id": "PT5is34sxBMq"
      },
      "execution_count": 3,
      "outputs": []
    },
    {
      "cell_type": "markdown",
      "source": [
        "## Funções auxiliares"
      ],
      "metadata": {
        "id": "Snz0BXUmxGCs"
      }
    },
    {
      "cell_type": "code",
      "execution_count": 24,
      "metadata": {
        "id": "5m96E5XCwsMp"
      },
      "outputs": [],
      "source": [
        "# Inicializando os parâmetros de entrada, no caso\n",
        "# W2 --> Potência de saída\n",
        "# V2 -->  Tensão Secundária\n",
        "# V1 --> Tensão Primária\n",
        "def initialize_parameters(W2, V2, V1):\n",
        "\n",
        "    if W2.isdigit() & V2.isdigit() & V1.isdigit():\n",
        "        if int(W2) > 800:\n",
        "            print('Potência de saída do transformador é maior do que 800 VA. Não é possível usar lâminas padronizadas')\n",
        "            laminas_padrozinadas = False\n",
        "        else:\n",
        "            print('A potência de saída do transformador é menor do que 800 VA. É possível utilizar as lâminas padronizadas')\n",
        "            laminas_padrozinadas = True\n",
        "        return laminas_padrozinadas\n",
        "    else:\n",
        "        print('Os valores inseridos não são dígitos...')\n",
        "        return\n",
        "\n",
        "def first_and_second_current(W2,V2,V1):\n",
        "    Is = (W2/V2)\n",
        "\n",
        "    #A Pontência primária é calculada a partir do aumento em 10% da potência secundária\n",
        "    W1 = 1.1 * W2\n",
        "    Ip = (W1/V1)\n",
        "\n",
        "    return Is,Ip\n",
        "\n",
        "def conductor_section(current,W2):\n",
        "    if W2 == 500:\n",
        "        return current/3\n",
        "    elif W2 > 500 & W2 <= 1000:\n",
        "        return  current/2.5\n",
        "    elif W2 > 1000 & W2 <= 3000:\n",
        "        return current/2\n",
        "    else:\n",
        "        return \"Potência fora do range limite recomendado\"\n",
        "\n",
        "def bitola(condutor_section):\n",
        "    conductor_section = {\n",
        "    \"upper_limit\": [53.476, 42.409, 33.362, 26.271, 21.152, 16.774, 13.303, 10.549, 8.366, 6.635, 5.262, 4.173, 3.309, 2.624, 2.081, 1.650, 1.309, 1.038, 0.823, 0.653, 0.518],\n",
        "    \"lower_limit\": [42.409, 33.362, 26.271, 21.152, 16.774, 13.303, 10.549, 8.366, 6.635, 5.262, 4.173, 3.309, 2.624, 2.081, 1.650, 1.309, 1.038, 0.823, 0.653, 0.518, 0.411],\n",
        "    \"description\": [\"fio 0\", \"fio 1\", \"fio 2\", \"fio 3\", \"fio 4\", \"fio 5\", \"fio 6\", \"fio 7\", \"fio 8\", \"fio 9\", \"fio 10\", \"fio 11\", \"fio 12\", \"fio 13\", \"fio 14\", \"fio 15\", \"fio 16\", \"fio 17\", \"fio 18\", \"fio 19\", \"fio 20\"]\n",
        "    }\n",
        "    df = pd.DataFrame(conductor_section)\n",
        "    row = df[(df['lower_limit'] < condutor_section) & (df['upper_limit'] >= condutor_section)]\n",
        "    if not row.empty:\n",
        "        upper_limit = row.iloc[0]['upper_limit']\n",
        "        description = row.iloc[0]['description']\n",
        "        return [upper_limit, description]\n",
        "    else:\n",
        "        return []\n",
        "\n",
        "\n",
        "def magnectic_section(potency, frequency,is_long_cable,is_two_primary_circuits=False,is_two_secondary_circuits=False):\n",
        "    standard_cables = 7.5*(math.sqrt(potency/frequency))\n",
        "    long_cables = 6.5*(math.sqrt(potency/frequency))\n",
        "    if is_two_primary_circuits is False and is_two_secondary_circuits is False:\n",
        "        if is_long_cable:\n",
        "            return long_cables\n",
        "        return standard_cables\n",
        "\n",
        "    if is_two_primary_circuits is True and is_two_secondary_circuits is False:\n",
        "        standard_cables = 7.5*(math.sqrt(1.25*potency/frequency))\n",
        "        long_cables = 6*(math.sqrt(1.25*potency/frequency))\n",
        "\n",
        "        if is_long_cable:\n",
        "            return long_cables\n",
        "        return standard_cables\n",
        "\n",
        "    if is_two_primary_circuits is True and is_two_secondary_circuits is True:\n",
        "        standard_cables = 7.5*(math.sqrt(1.5*potency/frequency))\n",
        "        long_cables = 6*(math.sqrt(1.5*potency/frequency))\n",
        "\n",
        "        if is_long_cable:\n",
        "            return long_cables\n",
        "        return standard_cables\n",
        "\n",
        "    print('Inválido')\n",
        "    return [0, 0]\n",
        "\n",
        "\n",
        "def core_geometric_section_1(magnetic_section):\n",
        "    return magnetic_section*1.1\n",
        "\n",
        "\n",
        "def calculate_a_and_b_geometric_section(geometric_section,a):\n",
        "    b = geometric_section/a\n",
        "    return b\n",
        "\n",
        "def core_geometric_section(length, width):\n",
        "    return length*width\n",
        "\n",
        "def core_magnetic_section(length, width):\n",
        "    return core_geometric_section(length, width)/1.1\n",
        "\n",
        "def calculate_turns_number_1(frequency, tension, core_ms):\n",
        "    if(frequency == 50):\n",
        "        return tension*(40/core_ms)\n",
        "    #Frequency = 60Hz\n",
        "    return tension*(33.5/core_ms)\n",
        "\n",
        "\n",
        "def blades_qtd(b:float,acesita:float):\n",
        "  return round((b*0.9)/acesita)\n",
        "\n",
        "def blade_type(a):\n",
        "    if a == 1.5:\n",
        "        return \"Lãmina tipo 0\"\n",
        "    elif a == 2:\n",
        "        return \"Lãmina tipo 1\"\n",
        "    elif a == 2.5:\n",
        "        return \"Lãmina tipo 2\"\n",
        "    elif a == 3:\n",
        "        return \"Lãmina tipo 3\"\n",
        "    elif a == 3.5:\n",
        "        return \"Lãmina tipo 4\"\n",
        "    elif a == 4:\n",
        "        return \"Lãmina tipo 5\"\n",
        "    elif a == 5:\n",
        "        return \"Lâmina tipo 6\"\n",
        "    else:\n",
        "        return \"Lãmina não encontrada\"\n",
        "\n",
        "\n",
        "def dimensions_core(a,b,second_potency):\n",
        "    if(second_potency>800):\n",
        "        largura=3*a\n",
        "        altura=4*a\n",
        "        comprimento=b\n",
        "        seção_janela=(0.5*a*1.5*a)*100  ## mm²\n",
        "        volume= ((largura*altura) - (0.5*a*3*a*2))*b*0.9 ## cm³\n",
        "        peso = 5.4*(a**2)*7.8\n",
        "\n",
        "\n",
        "        return (\"\\nA Largura é: \"+str(largura)+\"cm\\n\" +\n",
        "                \"A Altura é: \"+str(altura)+\"cm\\n\" +\n",
        "                \"O Comprimento é: \"+str(comprimento)+\"cm\\n\" +\n",
        "                \"A Seção da janela é: \"+str(seção_janela)+\"mm²\\n\"+\n",
        "                \"O Volume é: \"+str(volume)+\"cm³\\n\"\n",
        "                \"Peso é:\" + str(peso)+ 'g')\n",
        "    else:\n",
        "        largura=3*a\n",
        "        altura=2.5*a\n",
        "        comprimento=b\n",
        "        seção_janela=(0.5*a*1.5*a)*100  ## mm²\n",
        "        volume= ((float(largura)*float(altura)) - (0.5*a*3*a*2))*b*0.9 ## cm\n",
        "        peso = 5.4*(a**2)*7.8\n",
        "\n",
        "\n",
        "        return (\"\\nA Largura é: \"+str(largura)+\"cm\\n\" +\n",
        "                \"A Altura é: \"+str(altura)+\"cm\\n\" +\n",
        "                \"O Comprimento é: \"+str(comprimento)+\"cm\\n\" +\n",
        "                \"A Seção da janela é: \"+str(seção_janela)+\"mm²\\n\"+\n",
        "                \"O Volume é: \"+str(volume)+\"cm³\\n\"\n",
        "                \"Peso é: \" + str(peso)+ 'g')"
      ]
    },
    {
      "cell_type": "markdown",
      "source": [
        "## Parâmetros do transformador"
      ],
      "metadata": {
        "id": "T6p1YiSexfCY"
      }
    },
    {
      "cell_type": "code",
      "source": [
        "W2 = 300\n",
        "V1 = 220\n",
        "V2 = 120\n",
        "frequency = 50\n",
        "espessura = 0.035"
      ],
      "metadata": {
        "id": "4YIku_psxkWy"
      },
      "execution_count": 25,
      "outputs": []
    },
    {
      "cell_type": "markdown",
      "source": [
        "#Sistema"
      ],
      "metadata": {
        "id": "xWMXdU2qyKbU"
      }
    },
    {
      "cell_type": "code",
      "source": [
        "first_current, second_current = first_and_second_current(W2,V2,V1)"
      ],
      "metadata": {
        "id": "E4ZrN0ix0Uiy"
      },
      "execution_count": 26,
      "outputs": []
    },
    {
      "cell_type": "code",
      "source": [
        "W1 = 1.1 * W2"
      ],
      "metadata": {
        "id": "dllNzmZc0d-E"
      },
      "execution_count": 27,
      "outputs": []
    },
    {
      "cell_type": "code",
      "source": [
        "section_1 = conductor_section(first_current, W2)\n",
        "section_2 = conductor_section(second_current, W2)"
      ],
      "metadata": {
        "id": "cYs0i1ry0fpZ"
      },
      "execution_count": 28,
      "outputs": []
    },
    {
      "cell_type": "code",
      "source": [
        "section_1_bitola = bitola(section_1)\n",
        "section_2_bitola = bitola(section_2)"
      ],
      "metadata": {
        "id": "pY_n5an10tI2"
      },
      "execution_count": 31,
      "outputs": []
    },
    {
      "cell_type": "code",
      "source": [
        "magnetic_section = magnectic_section(W1,frequency,False)\n",
        "geometric_section = core_geometric_section_1(magnetic_section)"
      ],
      "metadata": {
        "id": "vMxtzAyK0vuy"
      },
      "execution_count": 32,
      "outputs": []
    },
    {
      "cell_type": "code",
      "source": [
        "if(W2>800):\n",
        "  print(\"Uso das laminas Compridas pois a potencia é maior que 800VA\")\n",
        "else:\n",
        "  print(\"Uso das laminas padronizadas pois a potencia é menor que 800VA\")"
      ],
      "metadata": {
        "colab": {
          "base_uri": "https://localhost:8080/"
        },
        "id": "KFJcOZgH05F4",
        "outputId": "3a6ec675-c8d5-41a4-efd2-a812c84280a2"
      },
      "execution_count": 33,
      "outputs": [
        {
          "output_type": "stream",
          "name": "stdout",
          "text": [
            "Uso das laminas padronizadas pois a potencia é menor que 800VA\n"
          ]
        }
      ]
    },
    {
      "cell_type": "code",
      "source": [
        "a = round(math.sqrt(geometric_section))\n",
        "blade = blade_type(a)\n",
        "b = round(calculate_a_and_b_geometric_section(geometric_section,a),1)"
      ],
      "metadata": {
        "id": "lGYZyXju09iM"
      },
      "execution_count": 34,
      "outputs": []
    },
    {
      "cell_type": "code",
      "source": [
        "core_gs = core_geometric_section(a, b)\n",
        "core_ms =round(core_magnetic_section(a, b),1)\n",
        "n1 = calculate_turns_number_1(frequency, W1, core_ms)\n",
        "n2 = calculate_turns_number_1(frequency,  W2, core_ms)*1.1"
      ],
      "metadata": {
        "id": "5f1u0bh01CPH"
      },
      "execution_count": 35,
      "outputs": []
    },
    {
      "cell_type": "code",
      "source": [
        "dimensions= dimensions_core(a,b,W2)\n",
        "qtd_blades= blades_qtd(b,espessura)"
      ],
      "metadata": {
        "id": "4yvy2d3B1GJD"
      },
      "execution_count": 36,
      "outputs": []
    },
    {
      "cell_type": "code",
      "source": [
        "print(\"Número de Espiras do Enrolamento Primário: \", n1)\n",
        "print(\"Número de Espiras do Enrolamento Secundário: \", n2)\n",
        "print(\"Bitola do cabo primário: \", section_1_bitola)\n",
        "print(\"Bitola do cabo secundário: \", section_2_bitola)\n",
        "print(\"Tipo de lâmina: \", blade)\n",
        "print(\"Quantidade de lâminas: \", qtd_blades)\n",
        "print(\"Dimensões: \",dimensions)"
      ],
      "metadata": {
        "colab": {
          "base_uri": "https://localhost:8080/"
        },
        "id": "35oozZo01cum",
        "outputId": "523411d0-5d8d-4254-ec49-ebb72b68cf80"
      },
      "execution_count": 37,
      "outputs": [
        {
          "output_type": "stream",
          "name": "stdout",
          "text": [
            "Número de Espiras do Enrolamento Primário:  691.0994764397906\n",
            "Número de Espiras do Enrolamento Secundário:  691.0994764397907\n",
            "Bitola do cabo primário:  [np.float64(1.038), 'fio 17']\n",
            "Bitola do cabo secundário:  [np.float64(0.653), 'fio 19']\n",
            "Tipo de lâmina:  Lâmina tipo 6\n",
            "Quantidade de lâminas:  108\n",
            "Dimensões:  \n",
            "A Largura é: 15cm\n",
            "A Altura é: 12.5cm\n",
            "O Comprimento é: 4.2cm\n",
            "A Seção da janela é: 1875.0mm²\n",
            "O Volume é: 425.25cm³\n",
            "Peso é: 1053.0g\n"
          ]
        }
      ]
    }
  ]
}